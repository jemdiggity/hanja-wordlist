{
 "cells": [
  {
   "cell_type": "code",
   "execution_count": 1,
   "metadata": {
    "collapsed": true
   },
   "outputs": [],
   "source": [
    "import csv\n",
    "import sqlite3"
   ]
  },
  {
   "cell_type": "code",
   "execution_count": 2,
   "metadata": {
    "collapsed": true
   },
   "outputs": [],
   "source": [
    "conn = sqlite3.connect('hanja-dictionary/hanjadic.sqlite')"
   ]
  },
  {
   "cell_type": "code",
   "execution_count": 46,
   "metadata": {
    "collapsed": false
   },
   "outputs": [],
   "source": [
    "conn.row_factory = sqlite3.Row\n",
    "c = conn.cursor()\n",
    "with open('Korean Vocab 6000 - Sheet1.tsv', newline='') as csvfile:\n",
    "    spamreader = csv.reader(csvfile, delimiter='\\t', quotechar='|')\n",
    "    i = 0\n",
    "    dictionary = []\n",
    "    for row in spamreader:\n",
    "        t = (row[1],)\n",
    "        c.execute('SELECT * FROM hanjas WHERE hangul=?', t)\n",
    "        r = c.fetchall()\n",
    "        \n",
    "        new_entry = {}\n",
    "        new_entry['id'] = row[0]\n",
    "        new_entry['hangul'] = row[1]\n",
    "        new_entry['english'] = row[2]\n",
    "        new_entry['hanjas'] = r\n",
    "        dictionary.append(new_entry)\n",
    "\n",
    "    with open('hanja.tsv', 'w', newline='') as csvfile:\n",
    "        spamwriter = csv.writer(csvfile, delimiter='\\t')\n",
    "        for entry in dictionary:\n",
    "            results = []\n",
    "            for result in entry['hanjas']:\n",
    "                results = results + [result[0], result[2]]\n",
    "#            print(\"\\t\".join([entry['id'], entry['hangul'], entry['english'], results]))\n",
    "            spamwriter.writerow([entry['id'], entry['hangul'], entry['english']] + results)\n"
   ]
  }
 ],
 "metadata": {
  "anaconda-cloud": {},
  "kernelspec": {
   "display_name": "Python [default]",
   "language": "python",
   "name": "python3"
  },
  "language_info": {
   "codemirror_mode": {
    "name": "ipython",
    "version": 3
   },
   "file_extension": ".py",
   "mimetype": "text/x-python",
   "name": "python",
   "nbconvert_exporter": "python",
   "pygments_lexer": "ipython3",
   "version": "3.5.2"
  }
 },
 "nbformat": 4,
 "nbformat_minor": 1
}
